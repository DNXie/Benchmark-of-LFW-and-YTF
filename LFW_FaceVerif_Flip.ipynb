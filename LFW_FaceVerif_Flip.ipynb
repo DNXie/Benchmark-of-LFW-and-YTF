{
 "cells": [
  {
   "cell_type": "code",
   "execution_count": 14,
   "metadata": {
    "collapsed": true
   },
   "outputs": [],
   "source": [
    "import Data as Data\n",
    "from keras.layers import Reshape, merge, Input, Dense, Flatten\n",
    "from keras.engine import  Model\n",
    "from keras_vggface import VGGFace\n",
    "from scipy.spatial.distance import cosine\n",
    "import numpy as np\n",
    "import scipy.misc\n",
    "import PIL\n",
    "import matplotlib.pyplot as plt\n",
    "%matplotlib inline\n",
    "from sklearn.decomposition import PCA"
   ]
  },
  {
   "cell_type": "code",
   "execution_count": 10,
   "metadata": {
    "collapsed": true
   },
   "outputs": [],
   "source": [
    "def data_init():\n",
    "    print('Data loading...')\n",
    "    (X_1,X_2,Y) = Data.loadData('/home/danning/lfw/lfw_data.h5')\n",
    "     #len = 6000\n",
    "    \n",
    "        \n",
    "    print('Image resizing...')\n",
    "    Xr_1 = []\n",
    "    Xr_2 = []\n",
    "    for i in range(len(X_1)):\n",
    "        Xr_1.append(scipy.misc.imresize(X_1[i], size=(224,224,3),interp='nearest'))\n",
    "        Xr_2.append(scipy.misc.imresize(X_2[i], size=(224,224,3),interp='nearest'))\n",
    "    \n",
    "    print('Image flipping...')\n",
    "\n",
    "    Xf_1 = [] #image array after flipping\n",
    "    Xf_2 = []\n",
    "    \n",
    "    for i in range(len(X_1)):\n",
    "        img1 = PIL.Image.fromarray(Xr_1[i], mode=None)\n",
    "        img2 = PIL.Image.fromarray(Xr_2[i], mode=None)\n",
    "        Xf_1.append(np.array(img1.transpose(Image.FLIP_LEFT_RIGHT)))\n",
    "        Xf_2.append(np.array(img2.transpose(Image.FLIP_LEFT_RIGHT)))\n",
    "\n",
    "    Xr_1 = np.asarray(Xr_1)\n",
    "    Xr_2 = np.asarray(Xr_2)\n",
    "    Xf_1 = np.asarray(Xf_1)\n",
    "    Xf_2 = np.asarray(Xf_2) \n",
    "    \n",
    "    print('Image normalizing...')\n",
    "    Xr_1 = (Xr_1.astype(np.float32) - 127.5)/127.5\n",
    "    Xr_2 = (Xr_2.astype(np.float32) - 127.5)/127.5\n",
    "    Xf_1 = (Xf_1.astype(np.float32) - 127.5)/127.5\n",
    "    Xf_2 = (Xf_2.astype(np.float32) - 127.5)/127.5\n",
    "\n",
    "\n",
    "    \n",
    "    \n",
    "    return (Xr_1,Xr_2,Xf_1,Xf_2,Y)\n",
    "        "
   ]
  },
  {
   "cell_type": "code",
   "execution_count": 3,
   "metadata": {},
   "outputs": [
    {
     "data": {
      "text/plain": [
       "'\\n(Xr_1,Xr_2,Xf_1,Xf_2,Y) = data_init()\\nplt.subplot(121)  \\nplt.imshow(Xr_1[0])  \\nplt.subplot(122)  \\nplt.imshow(Xf_1[0])\\n'"
      ]
     },
     "execution_count": 3,
     "metadata": {},
     "output_type": "execute_result"
    }
   ],
   "source": [
    "'''\n",
    "(Xr_1,Xr_2,Xf_1,Xf_2,Y) = data_init()\n",
    "plt.subplot(121)  \n",
    "plt.imshow(Xr_1[0])  \n",
    "plt.subplot(122)  \n",
    "plt.imshow(Xf_1[0])\n",
    "'''"
   ]
  },
  {
   "cell_type": "code",
   "execution_count": 4,
   "metadata": {
    "collapsed": true
   },
   "outputs": [],
   "source": [
    "def vgg_model():\n",
    "    vgg_model = VGGFace(include_top=True, input_shape=(224, 224, 3), pooling='avg') # pooling: None, avg or max\n",
    "    out = vgg_model.get_layer('fc7').output\n",
    "    vgg_model = Model(vgg_model.input, out)\n",
    "    vgg_model.summary()\n",
    "    return vgg_model"
   ]
  },
  {
   "cell_type": "code",
   "execution_count": 41,
   "metadata": {
    "collapsed": true
   },
   "outputs": [],
   "source": [
    "def verification(model,data,pca = False):\n",
    "    (Xr_1,Xr_2,Xf_1,Xf_2,Y) = data\n",
    "    \n",
    "    print('Feature vectors extracting...')\n",
    "    fvec11=model.predict(Xr_1, verbose=0)\n",
    "    fvec12=model.predict(Xf_1, verbose=0)\n",
    "    fvec21=model.predict(Xr_2, verbose=0)\n",
    "    fvec22=model.predict(Xf_2, verbose=0)\n",
    "    \n",
    "    fvec1 = fvec11 + fvec12\n",
    "    fvec2 = fvec21 + fvec22\n",
    "    \n",
    "    \n",
    "    \n",
    "    if pca:\n",
    "        print('Linear dimensionality reduction...')\n",
    "        '''\n",
    "        sklearn_pca = PCA(n_components=128,svd_solver='arpack')\n",
    "        fvec1 = sklearn_pca.fit_transform(fvec1)\n",
    "        fvec2 = sklearn_pca.fit_transform(fvec2)\n",
    "        '''\n",
    "        #waiting to be completed\n",
    "        \n",
    "    print('Cosine similarity calculating...')\n",
    "    cos_sim = []\n",
    "    for i in range(len(fvec1)):\n",
    "        cos_sim.append(1-cosine(fvec1[i],fvec2[i]))\n",
    "    #print(cos_sim)\n",
    "\n",
    "    print('cos_sim range: {0},{1}'.format(min(cos_sim),max(cos_sim)))\n",
    "    \n",
    "    \n",
    "    f = [] #f_measurement\n",
    "    max_f = 0 \n",
    "    max_f_index = -1 \n",
    "    pre = [] #precision\n",
    "    rec = [] #recall\n",
    "    for i in range(len(cos_sim)):\n",
    "        threshold = cos_sim[i]\n",
    "        tp=0 #true positive\n",
    "        fp=0 #false positive\n",
    "        fn=0 #false negative\n",
    "        for j in range(len(cos_sim)):\n",
    "            if cos_sim[j]>=threshold:\n",
    "                if Y[j] == 1:\n",
    "                    tp+=1\n",
    "                if Y[j] == 0:\n",
    "                    fp+=1\n",
    "            else:\n",
    "                if Y[j] == 1:\n",
    "                    fn+=1\n",
    "        pre.append(tp/(tp+fp))\n",
    "        rec.append(tp/(tp+fn))\n",
    "        temp = 2*pre[i]*rec[i]/(pre[i]+rec[i])\n",
    "        f.append(temp)\n",
    "        if temp>max_f:\n",
    "            max_f = temp\n",
    "            max_f_index = i\n",
    "\n",
    "    threshold = cos_sim[max_f_index]\n",
    "    print('threshold:{0}'.format(threshold))\n",
    "    \n",
    "    \n",
    "    y_test = []\n",
    "    err=0\n",
    "    for i in range(len(cos_sim)):\n",
    "        y_test.append(1 if cos_sim[i]>=threshold else 0) \n",
    "        if Y[i]!=y_test[i]:\n",
    "            err+=1\n",
    "\n",
    "    acc=1-err/len(Xr_1)\n",
    "    print(acc)"
   ]
  },
  {
   "cell_type": "code",
   "execution_count": 13,
   "metadata": {},
   "outputs": [
    {
     "name": "stdout",
     "output_type": "stream",
     "text": [
      "Data loading...\n",
      "Image resizing...\n",
      "Image flipping...\n",
      "Image normalizing...\n",
      "_________________________________________________________________\n",
      "Layer (type)                 Output Shape              Param #   \n",
      "=================================================================\n",
      "input_2 (InputLayer)         (None, 224, 224, 3)       0         \n",
      "_________________________________________________________________\n",
      "conv1_1 (Conv2D)             (None, 224, 224, 64)      1792      \n",
      "_________________________________________________________________\n",
      "conv1_2 (Conv2D)             (None, 224, 224, 64)      36928     \n",
      "_________________________________________________________________\n",
      "pool1 (MaxPooling2D)         (None, 112, 112, 64)      0         \n",
      "_________________________________________________________________\n",
      "conv2_1 (Conv2D)             (None, 112, 112, 128)     73856     \n",
      "_________________________________________________________________\n",
      "conv2_2 (Conv2D)             (None, 112, 112, 128)     147584    \n",
      "_________________________________________________________________\n",
      "pool2 (MaxPooling2D)         (None, 56, 56, 128)       0         \n",
      "_________________________________________________________________\n",
      "conv3_1 (Conv2D)             (None, 56, 56, 256)       295168    \n",
      "_________________________________________________________________\n",
      "conv3_2 (Conv2D)             (None, 56, 56, 256)       590080    \n",
      "_________________________________________________________________\n",
      "conv3_3 (Conv2D)             (None, 56, 56, 256)       590080    \n",
      "_________________________________________________________________\n",
      "pool3 (MaxPooling2D)         (None, 28, 28, 256)       0         \n",
      "_________________________________________________________________\n",
      "conv4_1 (Conv2D)             (None, 28, 28, 512)       1180160   \n",
      "_________________________________________________________________\n",
      "conv4_2 (Conv2D)             (None, 28, 28, 512)       2359808   \n",
      "_________________________________________________________________\n",
      "conv4_3 (Conv2D)             (None, 28, 28, 512)       2359808   \n",
      "_________________________________________________________________\n",
      "pool4 (MaxPooling2D)         (None, 14, 14, 512)       0         \n",
      "_________________________________________________________________\n",
      "conv5_1 (Conv2D)             (None, 14, 14, 512)       2359808   \n",
      "_________________________________________________________________\n",
      "conv5_2 (Conv2D)             (None, 14, 14, 512)       2359808   \n",
      "_________________________________________________________________\n",
      "conv5_3 (Conv2D)             (None, 14, 14, 512)       2359808   \n",
      "_________________________________________________________________\n",
      "pool5 (MaxPooling2D)         (None, 7, 7, 512)         0         \n",
      "_________________________________________________________________\n",
      "flatten (Flatten)            (None, 25088)             0         \n",
      "_________________________________________________________________\n",
      "fc6 (Dense)                  (None, 4096)              102764544 \n",
      "_________________________________________________________________\n",
      "fc6/relu (Activation)        (None, 4096)              0         \n",
      "_________________________________________________________________\n",
      "fc7 (Dense)                  (None, 4096)              16781312  \n",
      "=================================================================\n",
      "Total params: 134,260,544\n",
      "Trainable params: 134,260,544\n",
      "Non-trainable params: 0\n",
      "_________________________________________________________________\n",
      "Feature vectors extracting...\n",
      "Cosine similarity calculating...\n",
      "cos_sim range: 0.4254944869453108,0.9971884965802442\n",
      "threshold:0.7772057494841225\n",
      "0.9575\n"
     ]
    }
   ],
   "source": [
    "data = data_init()\n",
    "model = vgg_model()\n",
    "verification(model, data)"
   ]
  },
  {
   "cell_type": "code",
   "execution_count": null,
   "metadata": {
    "collapsed": true
   },
   "outputs": [],
   "source": []
  }
 ],
 "metadata": {
  "kernelspec": {
   "display_name": "Python 3",
   "language": "python",
   "name": "python3"
  },
  "language_info": {
   "codemirror_mode": {
    "name": "ipython",
    "version": 3
   },
   "file_extension": ".py",
   "mimetype": "text/x-python",
   "name": "python",
   "nbconvert_exporter": "python",
   "pygments_lexer": "ipython3",
   "version": "3.5.2"
  }
 },
 "nbformat": 4,
 "nbformat_minor": 2
}
