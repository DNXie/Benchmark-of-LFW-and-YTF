{
 "cells": [
  {
   "cell_type": "markdown",
   "metadata": {},
   "source": [
    "# Pre-processing of YTF\n",
    "Including \n",
    "face recognition  \n",
    "image cropping  \n",
    "randomly picking one image from evey vedio files  "
   ]
  },
  {
   "cell_type": "code",
   "execution_count": 85,
   "metadata": {
    "collapsed": true
   },
   "outputs": [],
   "source": [
    "import cv2\n",
    "from skimage import io\n",
    "import matplotlib.pyplot as plt\n",
    "from PIL import Image\n",
    "import numpy as np\n",
    "#%matplotlib inline\n",
    "import os\n",
    "import scipy.misc\n",
    "import random"
   ]
  },
  {
   "cell_type": "code",
   "execution_count": null,
   "metadata": {
    "collapsed": true
   },
   "outputs": [],
   "source": [
    "faceCascade = cv2.CascadeClassifier(\"haarcascade_frontalface_default.xml\")\n",
    "dataset_path = '/home/danning/face_verif/aligned_images_DB/'"
   ]
  },
  {
   "cell_type": "markdown",
   "metadata": {},
   "source": [
    "# Average face\n",
    "An idea of compute average faces of every set of images of every person:  \n",
    "However it works out really bad   "
   ]
  },
  {
   "cell_type": "code",
   "execution_count": 35,
   "metadata": {
    "collapsed": true
   },
   "outputs": [],
   "source": [
    "#This method works out very bad\n",
    "def crop_and_avg():\n",
    "    for subdir, dirs, files in os.walk(dataset_path): \n",
    "        for names in dirs:\n",
    "            for subdir2, dirs2, files2 in os.walk(dataset_path+names+'/'):\n",
    "                for numbers in dirs2:\n",
    "                    for subdir3, dirs3, files3 in os.walk(dataset_path+names+'/'+numbers+'/'):\n",
    "                        size = len(files3)\n",
    "                        avg_img = np.zeros((200,200, 3))\n",
    "                        for imgs in files3:\n",
    "                            image = Image.open(dataset_path+names+'/'+numbers+'/'+imgs)\n",
    "                            gray = cv2.cvtColor(np.asarray(image), cv2.COLOR_BGR2GRAY)\n",
    "                            faces = faceCascade.detectMultiScale(gray, scaleFactor=1.1, minNeighbors=5, minSize=(30, 30))\n",
    "                            if len(faces)==1:\n",
    "                                (x, y, w, h) = faces[0]\n",
    "                                center_x = x+w/2\n",
    "                                center_y = y+h/2\n",
    "                                b_dim = min(max(w,h)*1.2,image.width, image.height) # WARNING : this formula in incorrect\n",
    "\n",
    "                                box = (int(center_x-b_dim/2), int(center_y-b_dim/2), int(center_x+b_dim/2), int(center_y+b_dim/2))\n",
    "                                # Crop Image\n",
    "                                crpim = image.crop(box)\n",
    "                            \n",
    "                                resim = scipy.misc.imresize(crpim, size=(200,200,3),interp='nearest')\n",
    "                            \n",
    "                                if not os.path.exists('/home/danning/face_verif/ytf_cropped_faces/'+names+'/'+numbers):\n",
    "                                    os.makedirs('/home/danning/face_verif/ytf_cropped_faces/'+names+'/'+numbers)\n",
    "                                resim = Image.fromarray(resim.astype(np.uint8))     \n",
    "                                resim.save('/home/danning/face_verif/ytf_cropped_faces/'+names+'/'+numbers+'/'+imgs)\n",
    "                            \n",
    "                                #average face\n",
    "                                avg_img += np.asarray(crpim)\n",
    "                        avg_img /= size\n",
    "                        avg_img = Image.fromarray(avg_img.astype(np.uint8))\n",
    "                        avg_img.save('/home/danning/face_verif/ytf_avg_faces/'+names+'_'+numbers+'.jpg')\n",
    "                        print('Average face of {0} {1} saved'.format(names,numbers))\n",
    "        print('Saved images for {0}'.format(names))"
   ]
  },
  {
   "cell_type": "markdown",
   "metadata": {},
   "source": [
    "# Pick only one image from every set:\n",
    "An idea of randomly pick only one image from every set: randomly pick one , recognize the face and crop:\n",
    "However the faces of some image sets are hard for opencv to recognize, or it finds more than one faces.  \n",
    "I put all the 'bad' quality sets' names in a list called 'bad_files'.  \n",
    "I crop the faces of bad files by screenshot tool, then use a method 'bad_files_resize' to resize to the same size, (200,200,3).  \n"
   ]
  },
  {
   "cell_type": "code",
   "execution_count": 64,
   "metadata": {
    "collapsed": true
   },
   "outputs": [],
   "source": [
    "def random_pick_and_crop():\n",
    "    bad_files = []\n",
    "    for subdir, dirs, files in os.walk(dataset_path):\n",
    "        for names in dirs:\n",
    "            for subdir2, dirs2, files2 in os.walk(dataset_path+names+'/'):\n",
    "                for numbers in dirs2:\n",
    "                    for subdir3, dirs3, files3 in os.walk(dataset_path+names+'/'+numbers+'/'):\n",
    "                        faces = []\n",
    "                        count = 0\n",
    "                        while len(faces)!=1:\n",
    "                            count +=1\n",
    "                            if count>10:\n",
    "                                bad_files.append(names+numbers)\n",
    "                                break\n",
    "                            print('stuck at {0} {1}'.format(names,numbers))\n",
    "                            image = Image.open(dataset_path+names+'/'+numbers+'/'+files3[random.randrange(len(files3))])\n",
    "                            \n",
    "                            gray = cv2.cvtColor(np.asarray(image), cv2.COLOR_BGR2GRAY)\n",
    "                            faces = faceCascade.detectMultiScale(gray, scaleFactor=1.1, minNeighbors=5, minSize=(30, 30))\n",
    "                            \n",
    "                        if len(faces)==0:\n",
    "                            bad_files.append(names+numbers)\n",
    "                            break\n",
    "                        (x, y, w, h) = faces[0]#or random one \n",
    "                        \n",
    "                        center_x = x+w/2\n",
    "                        center_y = y+h/2\n",
    "                        b_dim = min(max(w,h)*1.2,image.width, image.height) # WARNING : this formula in incorrect\n",
    "                        box = (int(center_x-b_dim/2), int(center_y-b_dim/2), int(center_x+b_dim/2), int(center_y+b_dim/2))\n",
    "                        # Crop Image\n",
    "                        crpim = image.crop(box)\n",
    "                        resim = scipy.misc.imresize(crpim, size=(200,200,3),interp='nearest')\n",
    "                        resim = Image.fromarray(resim.astype(np.uint8))\n",
    "                        resim.save('/home/danning/face_verif/ytf_one_faces/'+names+'_'+numbers+'.jpg')\n",
    "                        print('Random face of {0} {1} saved'.format(names,numbers))\n",
    "            print('Saved images for {0}'.format(names))\n",
    "    print('Done!')\n",
    "    print('Bad Files:')\n",
    "    print(bad_files)\n",
    "    #bad files:['Kyle_Shewfelt0', 'Kyle_Shewfelt0', 'Eliane_Karp0', 'Prince_Charles0', 'Alison_Lohman2', 'Tom_Koenigs3', 'Marie-Josee_Croze2', 'Rand_Beers5', 'Rand_Beers5', 'Alexander_Downer4', 'Charles_Bronson0', 'Paul_Gascoigne4', 'Richard_Lugar1', 'Eladio_Larez3', 'Poala_Suarez5', 'Poala_Suarez5', 'Beyonce_Knowles3', 'Lenny_Wilkens3']\n"
   ]
  },
  {
   "cell_type": "code",
   "execution_count": null,
   "metadata": {
    "collapsed": true
   },
   "outputs": [],
   "source": [
    "def bad_files_resize():\n",
    "    for subdir, dirs, files in os.walk('/home/danning/face_verif/bad files/'):\n",
    "        for imgs in files:\n",
    "            image = Image.open('/home/danning/face_verif/bad files/'+imgs)\n",
    "            resim = scipy.misc.imresize(image, size=(200,200,3),interp='nearest')\n",
    "            resim = Image.fromarray(resim.astype(np.uint8))\n",
    "            resim.save('/home/danning/face_verif/ytf_one_faces/'+imgs)\n",
    "            print('{0} saved '.format(imgs))"
   ]
  }
 ],
 "metadata": {
  "kernelspec": {
   "display_name": "Python 3",
   "language": "python",
   "name": "python3"
  },
  "language_info": {
   "codemirror_mode": {
    "name": "ipython",
    "version": 3
   },
   "file_extension": ".py",
   "mimetype": "text/x-python",
   "name": "python",
   "nbconvert_exporter": "python",
   "pygments_lexer": "ipython3",
   "version": "3.5.2"
  }
 },
 "nbformat": 4,
 "nbformat_minor": 2
}
