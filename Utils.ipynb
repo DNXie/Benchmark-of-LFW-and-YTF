{
 "cells": [
  {
   "cell_type": "code",
   "execution_count": 1,
   "metadata": {
    "collapsed": true
   },
   "outputs": [],
   "source": [
    "import numpy as np\n",
    "import Data\n",
    "#%matplotlib inline\n",
    "import matplotlib.pyplot as plt\n",
    "import scipy.misc\n",
    "from PIL import Image"
   ]
  },
  {
   "cell_type": "code",
   "execution_count": 6,
   "metadata": {
    "collapsed": true
   },
   "outputs": [],
   "source": [
    "def downsample(imgset, size): \n",
    "    result = []\n",
    "    for img in imgset:\n",
    "        im = np.empty([imgset[0].shape[0]//size, imgset[0].shape[1]//size, 3])\n",
    "        for i in range(im.shape[2]):\n",
    "            for m in range(im.shape[1]):\n",
    "                for n in range(im.shape[0]):\n",
    "                    im[n,m,i] = img[size*n, size*m, i]\n",
    "        result.append(im.astype(np.uint8))\n",
    "    result = np.asarray(result)\n",
    "    return result"
   ]
  },
  {
   "cell_type": "code",
   "execution_count": 7,
   "metadata": {
    "collapsed": true
   },
   "outputs": [],
   "source": [
    "def resize(imgset, shape):\n",
    "    resize_imgset = []\n",
    "    for img in imgset:\n",
    "        resim = scipy.misc.imresize(img, size=shape,interp='nearest')\n",
    "        resim = Image.fromarray(resim.astype(np.uint8))\n",
    "        resize_imgset.append(np.asarray(resim))\n",
    "    return resize_imgset"
   ]
  },
  {
   "cell_type": "code",
   "execution_count": 8,
   "metadata": {
    "collapsed": true
   },
   "outputs": [],
   "source": [
    "(x1, x2, y) = Data.loadData('/home/danning/face_verif/lfw_data.h5')\n"
   ]
  },
  {
   "cell_type": "code",
   "execution_count": 9,
   "metadata": {
    "collapsed": true
   },
   "outputs": [],
   "source": [
    "lr_x1 = downsample(x1, 4)\n",
    "lr_x2 = downsample(x2, 4)"
   ]
  },
  {
   "cell_type": "code",
   "execution_count": 10,
   "metadata": {
    "collapsed": true
   },
   "outputs": [],
   "source": [
    "lr_x1 = resize(lr_x1,(112,96,3))\n",
    "lr_x2 = resize(lr_x2,(112,96,3))"
   ]
  },
  {
   "cell_type": "code",
   "execution_count": 47,
   "metadata": {},
   "outputs": [
    {
     "data": {
      "text/plain": [
       "<matplotlib.image.AxesImage at 0x7f4396f9a160>"
      ]
     },
     "execution_count": 47,
     "metadata": {},
     "output_type": "execute_result"
    },
    {
     "data": {
      "image/png": "[encoded data removed]",
      "text/plain": [
       "<matplotlib.figure.Figure at 0x7f43b00bef60>"
      ]
     },
     "metadata": {},
     "output_type": "display_data"
    }
   ],
   "source": [
    "#plt.imshow(lr_x1[0])"
   ]
  },
  {
   "cell_type": "code",
   "execution_count": 11,
   "metadata": {
    "collapsed": true
   },
   "outputs": [],
   "source": [
    "Data.compress_data((lr_x1,lr_x2,y),'lr4_lfw.h5')"
   ]
  },
  {
   "cell_type": "code",
   "execution_count": null,
   "metadata": {
    "collapsed": true
   },
   "outputs": [],
   "source": []
  }
 ],
 "metadata": {
  "kernelspec": {
   "display_name": "Python 3",
   "language": "python",
   "name": "python3"
  },
  "language_info": {
   "codemirror_mode": {
    "name": "ipython",
    "version": 3
   },
   "file_extension": ".py",
   "mimetype": "text/x-python",
   "name": "python",
   "nbconvert_exporter": "python",
   "pygments_lexer": "ipython3",
   "version": "3.5.2"
  }
 },
 "nbformat": 4,
 "nbformat_minor": 2
}
