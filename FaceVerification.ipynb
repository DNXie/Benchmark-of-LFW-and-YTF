{
 "cells": [
  {
   "cell_type": "markdown",
   "metadata": {},
   "source": [
    "# This code can be used in face verification for LFW , YTF  "
   ]
  },
  {
   "cell_type": "code",
   "execution_count": 1,
   "metadata": {},
   "outputs": [
    {
     "name": "stderr",
     "output_type": "stream",
     "text": [
      "Using TensorFlow backend.\n"
     ]
    }
   ],
   "source": [
    "import Data as Data\n",
    "from keras.layers import Reshape, merge, Input, Dense, Flatten\n",
    "from keras.engine import  Model\n",
    "from keras_vggface.vggface import VGGFace\n",
    "from scipy.spatial.distance import cosine\n",
    "import numpy as np\n",
    "import scipy.misc"
   ]
  },
  {
   "cell_type": "code",
   "execution_count": 2,
   "metadata": {
    "collapsed": true
   },
   "outputs": [],
   "source": [
    "def data_init(data, notop = False):\n",
    "\n",
    "    print('Data loading..')\n",
    "    (X_1, X_2, Y )= data\n",
    "    print(Y)\n",
    "    #len = 6000\n",
    "    print(X_1.shape)\n",
    "\n",
    "    \n",
    "    if notop:\n",
    "        print('Data Loaded. Now normalizing..')\n",
    "        X_1 = (X_1.astype(np.float32) - 127.5)/127.5\n",
    "        X_2 = (X_2.astype(np.float32) - 127.5)/127.5\n",
    "        return (X_1,X_2,Y)\n",
    "    else:\n",
    "        print('Imgae risizing...')\n",
    "        #image array after resize\n",
    "        Xr_1=[]\n",
    "        Xr_2=[]\n",
    "\n",
    "        for img in X_1:\n",
    "            Xr_1.append(scipy.misc.imresize(img, size=(224,224,3),interp='nearest'))\n",
    "        for img in X_2:\n",
    "            Xr_2.append(scipy.misc.imresize(img, size=(224,224,3),interp='nearest'))\n",
    "\n",
    "        Xr_1 = np.asarray(Xr_1)\n",
    "        Xr_2 = np.asarray(Xr_2)\n",
    "    \n",
    "        print('Data resized. Now normalizing..')\n",
    "        Xr_1 = (Xr_1.astype(np.float32) - 127.5)/127.5\n",
    "        Xr_2 = (Xr_2.astype(np.float32) - 127.5)/127.5\n",
    "        return (Xr_1,Xr_2,Y)\n",
    "    "
   ]
  },
  {
   "cell_type": "code",
   "execution_count": 3,
   "metadata": {
    "collapsed": true,
    "scrolled": true
   },
   "outputs": [],
   "source": [
    "def vgg_model(notop = False):\n",
    "    if notop:\n",
    "        vgg_model = VGGFace(include_top=False, input_shape=(112,96, 3), pooling='avg') # pooling: None, avg or max\n",
    "        \n",
    "    else:\n",
    "        vgg_model = VGGFace(include_top=True, input_shape=(224, 224, 3), pooling='avg') # pooling: None, avg or max\n",
    "        out = vgg_model.get_layer('fc7').output\n",
    "        vgg_model = Model(vgg_model.input, out)\n",
    "    vgg_model.summary()\n",
    "    return vgg_model"
   ]
  },
  {
   "cell_type": "code",
   "execution_count": 4,
   "metadata": {
    "collapsed": true
   },
   "outputs": [],
   "source": [
    "def verification(model,data):\n",
    "    print('Feature vectors extracting...')\n",
    "\n",
    "    (X_1,X_2,Y) = data\n",
    "    fvec1=model.predict(X_1, verbose=0)\n",
    "    fvec2=model.predict(X_2, verbose=0)\n",
    "    \n",
    "    print('Cosine similarity calculating...')\n",
    "    cos_sim = []\n",
    "    for i in range(len(fvec1)):\n",
    "        cos_sim.append(1-cosine(fvec1[i],fvec2[i]))\n",
    "    #print(cos_sim)\n",
    "\n",
    "    print('cos_sim range: {0},{1}'.format(min(cos_sim),max(cos_sim)))\n",
    "    \n",
    "    \n",
    "    f = [] #f_measurement\n",
    "    max_f = 0 \n",
    "    max_f_index = -1 \n",
    "    pre = [] #precision\n",
    "    rec = [] #recall\n",
    "    for i in range(len(cos_sim)):\n",
    "        threshold = cos_sim[i]\n",
    "        tp=0 #true positive\n",
    "        fp=0 #false positive\n",
    "        fn=0 #false negative\n",
    "        for j in range(len(cos_sim)):\n",
    "            if cos_sim[j]>=threshold:\n",
    "                if Y[j] == 1:\n",
    "                    tp+=1\n",
    "                if Y[j] == 0:\n",
    "                    fp+=1\n",
    "            else:\n",
    "                if Y[j] == 1:\n",
    "                    fn+=1\n",
    "        \n",
    "        pre.append(tp/(tp+fp))\n",
    "        rec.append(tp/(tp+fn))\n",
    "        \n",
    "        temp = 2*pre[i]*rec[i]/(pre[i]+rec[i])\n",
    "        f.append(temp)\n",
    "        if temp>max_f:\n",
    "            max_f = temp\n",
    "            max_f_index = i\n",
    "\n",
    "    threshold = cos_sim[max_f_index]\n",
    "    print('threshold:{0}'.format(threshold))\n",
    "    \n",
    "    \n",
    "    y_test = []\n",
    "    err=0\n",
    "    for i in range(len(cos_sim)):\n",
    "        y_test.append(1 if cos_sim[i]>=threshold else 0) \n",
    "        if Y[i]!=y_test[i]:\n",
    "            err+=1\n",
    "\n",
    "    acc=1-err/len(X_1)\n",
    "    print(acc)"
   ]
  },
  {
   "cell_type": "markdown",
   "metadata": {},
   "source": [
    "# Results for LFW: \n",
    "Model: VGGFace  \n",
    "Accurarcy:   \n",
    "no top : 88.7%  \n",
    "with top : 95.38%  \n",
    "Flipped LFW : 95.7%  (see LFW_FaceVerif_Flip.ipynb)  "
   ]
  },
  {
   "cell_type": "code",
   "execution_count": 20,
   "metadata": {
    "scrolled": true
   },
   "outputs": [
    {
     "data": {
      "text/plain": [
       "\"\\n#notop : 88.7%\\n#with top : 95.4%\\nloaddata = Data.loadData('/home/danning/face_verif/lfw_data.h5')\\ndata = data_init(loaddata, notop=True)\\nmodel = vgg_model(notop=True)\\nverification(model,data)\\n\\n\\ndata = data_init(loaddata)\\nmodel = vgg_model(notop=False)\\nverification(model,data)\\n\""
      ]
     },
     "execution_count": 20,
     "metadata": {},
     "output_type": "execute_result"
    }
   ],
   "source": [
    "\n",
    "#notop\n",
    "loaddata = Data.loadData('/home/danning/face_verif/lfw_data.h5')\n",
    "data = data_init(loaddata, notop=True)\n",
    "model = vgg_model(notop=True)\n",
    "verification(model,data)\n",
    "\n",
    "#with top\n",
    "data = data_init(loaddata)\n",
    "model = vgg_model(notop=False)\n",
    "verification(model,data)\n"
   ]
  },
  {
   "cell_type": "markdown",
   "metadata": {},
   "source": [
    "# Results for SRGAN\n",
    "Model: SRGAN \n",
    "Accuaracy:  \n",
    "lr4_lfw: 86.88% \n",
    "hr4_lfw: 88.52%  "
   ]
  },
  {
   "cell_type": "code",
   "execution_count": 6,
   "metadata": {},
   "outputs": [
    {
     "name": "stdout",
     "output_type": "stream",
     "text": [
      "Data loading..\n",
      "[1 1 1 ..., 0 0 0]\n",
      "(6000, 112, 96, 3)\n",
      "Imgae risizing...\n",
      "Data resized. Now normalizing..\n",
      "_________________________________________________________________\n",
      "Layer (type)                 Output Shape              Param #   \n",
      "=================================================================\n",
      "input_2 (InputLayer)         (None, 224, 224, 3)       0         \n",
      "_________________________________________________________________\n",
      "conv1_1 (Conv2D)             (None, 224, 224, 64)      1792      \n",
      "_________________________________________________________________\n",
      "conv1_2 (Conv2D)             (None, 224, 224, 64)      36928     \n",
      "_________________________________________________________________\n",
      "pool1 (MaxPooling2D)         (None, 112, 112, 64)      0         \n",
      "_________________________________________________________________\n",
      "conv2_1 (Conv2D)             (None, 112, 112, 128)     73856     \n",
      "_________________________________________________________________\n",
      "conv2_2 (Conv2D)             (None, 112, 112, 128)     147584    \n",
      "_________________________________________________________________\n",
      "pool2 (MaxPooling2D)         (None, 56, 56, 128)       0         \n",
      "_________________________________________________________________\n",
      "conv3_1 (Conv2D)             (None, 56, 56, 256)       295168    \n",
      "_________________________________________________________________\n",
      "conv3_2 (Conv2D)             (None, 56, 56, 256)       590080    \n",
      "_________________________________________________________________\n",
      "conv3_3 (Conv2D)             (None, 56, 56, 256)       590080    \n",
      "_________________________________________________________________\n",
      "pool3 (MaxPooling2D)         (None, 28, 28, 256)       0         \n",
      "_________________________________________________________________\n",
      "conv4_1 (Conv2D)             (None, 28, 28, 512)       1180160   \n",
      "_________________________________________________________________\n",
      "conv4_2 (Conv2D)             (None, 28, 28, 512)       2359808   \n",
      "_________________________________________________________________\n",
      "conv4_3 (Conv2D)             (None, 28, 28, 512)       2359808   \n",
      "_________________________________________________________________\n",
      "pool4 (MaxPooling2D)         (None, 14, 14, 512)       0         \n",
      "_________________________________________________________________\n",
      "conv5_1 (Conv2D)             (None, 14, 14, 512)       2359808   \n",
      "_________________________________________________________________\n",
      "conv5_2 (Conv2D)             (None, 14, 14, 512)       2359808   \n",
      "_________________________________________________________________\n",
      "conv5_3 (Conv2D)             (None, 14, 14, 512)       2359808   \n",
      "_________________________________________________________________\n",
      "pool5 (MaxPooling2D)         (None, 7, 7, 512)         0         \n",
      "_________________________________________________________________\n",
      "flatten (Flatten)            (None, 25088)             0         \n",
      "_________________________________________________________________\n",
      "fc6 (Dense)                  (None, 4096)              102764544 \n",
      "_________________________________________________________________\n",
      "fc6/relu (Activation)        (None, 4096)              0         \n",
      "_________________________________________________________________\n",
      "fc7 (Dense)                  (None, 4096)              16781312  \n",
      "=================================================================\n",
      "Total params: 134,260,544\n",
      "Trainable params: 134,260,544\n",
      "Non-trainable params: 0\n",
      "_________________________________________________________________\n",
      "Feature vectors extracting...\n",
      "Cosine similarity calculating...\n",
      "cos_sim range: 0.38452049858007475,0.9857303985092671\n",
      "threshold:0.728545778831783\n",
      "0.8688333333333333\n"
     ]
    }
   ],
   "source": [
    "loaddata = Data.loadData('/home/danning/face_verif/lr4_lfw.h5')\n",
    "data = data_init(loaddata)\n",
    "model = vgg_model(notop=False)\n",
    "verification(model,data)"
   ]
  },
  {
   "cell_type": "code",
   "execution_count": 7,
   "metadata": {},
   "outputs": [
    {
     "name": "stdout",
     "output_type": "stream",
     "text": [
      "Data loading..\n",
      "[1 1 1 ..., 0 0 0]\n",
      "(6000, 112, 96, 3)\n",
      "Imgae risizing...\n",
      "Data resized. Now normalizing..\n",
      "_________________________________________________________________\n",
      "Layer (type)                 Output Shape              Param #   \n",
      "=================================================================\n",
      "input_3 (InputLayer)         (None, 224, 224, 3)       0         \n",
      "_________________________________________________________________\n",
      "conv1_1 (Conv2D)             (None, 224, 224, 64)      1792      \n",
      "_________________________________________________________________\n",
      "conv1_2 (Conv2D)             (None, 224, 224, 64)      36928     \n",
      "_________________________________________________________________\n",
      "pool1 (MaxPooling2D)         (None, 112, 112, 64)      0         \n",
      "_________________________________________________________________\n",
      "conv2_1 (Conv2D)             (None, 112, 112, 128)     73856     \n",
      "_________________________________________________________________\n",
      "conv2_2 (Conv2D)             (None, 112, 112, 128)     147584    \n",
      "_________________________________________________________________\n",
      "pool2 (MaxPooling2D)         (None, 56, 56, 128)       0         \n",
      "_________________________________________________________________\n",
      "conv3_1 (Conv2D)             (None, 56, 56, 256)       295168    \n",
      "_________________________________________________________________\n",
      "conv3_2 (Conv2D)             (None, 56, 56, 256)       590080    \n",
      "_________________________________________________________________\n",
      "conv3_3 (Conv2D)             (None, 56, 56, 256)       590080    \n",
      "_________________________________________________________________\n",
      "pool3 (MaxPooling2D)         (None, 28, 28, 256)       0         \n",
      "_________________________________________________________________\n",
      "conv4_1 (Conv2D)             (None, 28, 28, 512)       1180160   \n",
      "_________________________________________________________________\n",
      "conv4_2 (Conv2D)             (None, 28, 28, 512)       2359808   \n",
      "_________________________________________________________________\n",
      "conv4_3 (Conv2D)             (None, 28, 28, 512)       2359808   \n",
      "_________________________________________________________________\n",
      "pool4 (MaxPooling2D)         (None, 14, 14, 512)       0         \n",
      "_________________________________________________________________\n",
      "conv5_1 (Conv2D)             (None, 14, 14, 512)       2359808   \n",
      "_________________________________________________________________\n",
      "conv5_2 (Conv2D)             (None, 14, 14, 512)       2359808   \n",
      "_________________________________________________________________\n",
      "conv5_3 (Conv2D)             (None, 14, 14, 512)       2359808   \n",
      "_________________________________________________________________\n",
      "pool5 (MaxPooling2D)         (None, 7, 7, 512)         0         \n",
      "_________________________________________________________________\n",
      "flatten (Flatten)            (None, 25088)             0         \n",
      "_________________________________________________________________\n",
      "fc6 (Dense)                  (None, 4096)              102764544 \n",
      "_________________________________________________________________\n",
      "fc6/relu (Activation)        (None, 4096)              0         \n",
      "_________________________________________________________________\n",
      "fc7 (Dense)                  (None, 4096)              16781312  \n",
      "=================================================================\n",
      "Total params: 134,260,544\n",
      "Trainable params: 134,260,544\n",
      "Non-trainable params: 0\n",
      "_________________________________________________________________\n",
      "Feature vectors extracting...\n",
      "Cosine similarity calculating...\n",
      "cos_sim range: 0.4098488838844503,0.9796416190732387\n",
      "threshold:0.7350193913771105\n",
      "0.8851666666666667\n"
     ]
    }
   ],
   "source": [
    "loaddata = Data.loadData('/home/danning/face_verif/hr4_lfw.h5')\n",
    "data = data_init(loaddata)\n",
    "model = vgg_model(notop=False)\n",
    "verification(model,data)"
   ]
  },
  {
   "cell_type": "markdown",
   "metadata": {},
   "source": [
    "# Results for YTF:\n",
    "Model: VGGFace  \n",
    "Accurarcy: 88.16% "
   ]
  },
  {
   "cell_type": "code",
   "execution_count": 21,
   "metadata": {
    "scrolled": false
   },
   "outputs": [
    {
     "name": "stdout",
     "output_type": "stream",
     "text": [
      "Data loading..\n",
      "[1 1 1 ..., 0 0 0]\n",
      "(5000, 200, 200, 3)\n",
      "Imgae risizing...\n",
      "Data resized. Now normalizing..\n",
      "_________________________________________________________________\n",
      "Layer (type)                 Output Shape              Param #   \n",
      "=================================================================\n",
      "input_2 (InputLayer)         (None, 224, 224, 3)       0         \n",
      "_________________________________________________________________\n",
      "conv1_1 (Conv2D)             (None, 224, 224, 64)      1792      \n",
      "_________________________________________________________________\n",
      "conv1_2 (Conv2D)             (None, 224, 224, 64)      36928     \n",
      "_________________________________________________________________\n",
      "pool1 (MaxPooling2D)         (None, 112, 112, 64)      0         \n",
      "_________________________________________________________________\n",
      "conv2_1 (Conv2D)             (None, 112, 112, 128)     73856     \n",
      "_________________________________________________________________\n",
      "conv2_2 (Conv2D)             (None, 112, 112, 128)     147584    \n",
      "_________________________________________________________________\n",
      "pool2 (MaxPooling2D)         (None, 56, 56, 128)       0         \n",
      "_________________________________________________________________\n",
      "conv3_1 (Conv2D)             (None, 56, 56, 256)       295168    \n",
      "_________________________________________________________________\n",
      "conv3_2 (Conv2D)             (None, 56, 56, 256)       590080    \n",
      "_________________________________________________________________\n",
      "conv3_3 (Conv2D)             (None, 56, 56, 256)       590080    \n",
      "_________________________________________________________________\n",
      "pool3 (MaxPooling2D)         (None, 28, 28, 256)       0         \n",
      "_________________________________________________________________\n",
      "conv4_1 (Conv2D)             (None, 28, 28, 512)       1180160   \n",
      "_________________________________________________________________\n",
      "conv4_2 (Conv2D)             (None, 28, 28, 512)       2359808   \n",
      "_________________________________________________________________\n",
      "conv4_3 (Conv2D)             (None, 28, 28, 512)       2359808   \n",
      "_________________________________________________________________\n",
      "pool4 (MaxPooling2D)         (None, 14, 14, 512)       0         \n",
      "_________________________________________________________________\n",
      "conv5_1 (Conv2D)             (None, 14, 14, 512)       2359808   \n",
      "_________________________________________________________________\n",
      "conv5_2 (Conv2D)             (None, 14, 14, 512)       2359808   \n",
      "_________________________________________________________________\n",
      "conv5_3 (Conv2D)             (None, 14, 14, 512)       2359808   \n",
      "_________________________________________________________________\n",
      "pool5 (MaxPooling2D)         (None, 7, 7, 512)         0         \n",
      "_________________________________________________________________\n",
      "flatten (Flatten)            (None, 25088)             0         \n",
      "_________________________________________________________________\n",
      "fc6 (Dense)                  (None, 4096)              102764544 \n",
      "_________________________________________________________________\n",
      "fc6/relu (Activation)        (None, 4096)              0         \n",
      "_________________________________________________________________\n",
      "fc7 (Dense)                  (None, 4096)              16781312  \n",
      "=================================================================\n",
      "Total params: 134,260,544\n",
      "Trainable params: 134,260,544\n",
      "Non-trainable params: 0\n",
      "_________________________________________________________________\n",
      "Feature vectors extracting...\n",
      "Cosine similarity calculating...\n",
      "cos_sim range: 0.4278739823691464,0.9913623877139495\n",
      "threshold:0.7301480257268975\n",
      "0.8815999999999999\n"
     ]
    }
   ],
   "source": [
    "loaddata = Data.loadData('/home/danning/face_verif/ytf_data.h5')\n",
    "data = data_init(loaddata)\n",
    "model = vgg_model()\n",
    "verification(model,data)\n"
   ]
  }
 ],
 "metadata": {
  "kernelspec": {
   "display_name": "Python 3",
   "language": "python",
   "name": "python3"
  },
  "language_info": {
   "codemirror_mode": {
    "name": "ipython",
    "version": 3
   },
   "file_extension": ".py",
   "mimetype": "text/x-python",
   "name": "python",
   "nbconvert_exporter": "python",
   "pygments_lexer": "ipython3",
   "version": "3.5.2"
  }
 },
 "nbformat": 4,
 "nbformat_minor": 2
}
